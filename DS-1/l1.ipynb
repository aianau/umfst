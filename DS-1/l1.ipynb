{
 "cells": [
  {
   "cell_type": "code",
   "execution_count": 1,
   "metadata": {},
   "outputs": [
    {
     "name": "stdout",
     "output_type": "stream",
     "text": [
      "<class 'int'>\n",
      "<class 'str'>\n",
      "<class 'bool'>\n"
     ]
    }
   ],
   "source": [
    "ana = 1\n",
    "print(type(ana))\n",
    "ana = \"1\"\n",
    "print(type(ana))\n",
    "ana = False\n",
    "print(type(ana))"
   ]
  },
  {
   "cell_type": "code",
   "execution_count": 6,
   "metadata": {},
   "outputs": [
    {
     "data": {
      "text/plain": [
       "True"
      ]
     },
     "execution_count": 6,
     "metadata": {},
     "output_type": "execute_result"
    }
   ],
   "source": [
    "gigi = [1,2,3]\n",
    "coco = gigi\n",
    "lala = coco\n",
    "\n",
    "id(gigi) == id(coco) == id(lala)"
   ]
  },
  {
   "cell_type": "code",
   "execution_count": 10,
   "metadata": {},
   "outputs": [
    {
     "ename": "TypeError",
     "evalue": "'tuple' object does not support item assignment",
     "output_type": "error",
     "traceback": [
      "\u001b[1;31m---------------------------------------------------------------------------\u001b[0m",
      "\u001b[1;31mTypeError\u001b[0m                                 Traceback (most recent call last)",
      "Cell \u001b[1;32mIn[10], line 10\u001b[0m\n\u001b[0;32m      8\u001b[0m costi \u001b[39m=\u001b[39m (\u001b[39m1\u001b[39m, \u001b[39m2\u001b[39m, \u001b[39m3\u001b[39m)\n\u001b[0;32m      9\u001b[0m last_id_costi \u001b[39m=\u001b[39m \u001b[39mid\u001b[39m(costi)\n\u001b[1;32m---> 10\u001b[0m costi[\u001b[39m1\u001b[39;49m] \u001b[39m=\u001b[39m \u001b[39m0\u001b[39m\n\u001b[0;32m     11\u001b[0m new_id_costi \u001b[39m=\u001b[39m \u001b[39mid\u001b[39m(costi)\n\u001b[0;32m     13\u001b[0m \u001b[39m# assert(last_id_costi == new_id_costi)\u001b[39;00m\n",
      "\u001b[1;31mTypeError\u001b[0m: 'tuple' object does not support item assignment"
     ]
    }
   ],
   "source": [
    "gigi = [1, 2, 3]\n",
    "last_id_gigi = id(gigi)\n",
    "gigi[1] = 0\n",
    "new_id_gigi = id(gigi)\n",
    "\n",
    "assert(last_id_gigi == new_id_gigi)\n",
    "\n",
    "costi = (1, 2, 3)\n",
    "last_id_costi = id(costi)\n",
    "costi[1] = 0\n",
    "new_id_costi = id(costi)\n",
    "\n",
    "# assert(last_id_costi == new_id_costi)"
   ]
  },
  {
   "cell_type": "code",
   "execution_count": 11,
   "metadata": {},
   "outputs": [],
   "source": [
    "# ?"
   ]
  },
  {
   "cell_type": "code",
   "execution_count": 12,
   "metadata": {},
   "outputs": [],
   "source": [
    "a = [1]\n",
    "b = [3]\n",
    "a = b\n"
   ]
  },
  {
   "attachments": {},
   "cell_type": "markdown",
   "metadata": {},
   "source": [
    "Liste"
   ]
  },
  {
   "cell_type": "code",
   "execution_count": 16,
   "metadata": {},
   "outputs": [],
   "source": [
    "a = [1,2,3, \"asdas\"]\n"
   ]
  },
  {
   "cell_type": "code",
   "execution_count": 20,
   "metadata": {},
   "outputs": [
    {
     "name": "stdout",
     "output_type": "stream",
     "text": [
      "[1, 2, 'asdas']\n",
      "[1, 2, 'asdas', 1]\n",
      "[1, 2, 'asdas']\n",
      "[1, 2]\n"
     ]
    }
   ],
   "source": [
    "print(a)\n",
    "a.append(1)\n",
    "print(a)\n",
    "a.pop(len(a)-1)\n",
    "print(a)\n",
    "a.pop(2)\n",
    "print(a)"
   ]
  },
  {
   "cell_type": "code",
   "execution_count": 56,
   "metadata": {},
   "outputs": [
    {
     "name": "stdout",
     "output_type": "stream",
     "text": [
      "[[[7 3]\n",
      "  [5 4]]\n",
      "\n",
      " [[2 1]\n",
      "  [2 1]]]\n",
      "=====\n",
      "[[7 3]\n",
      " [5 4]]\n",
      "=====\n",
      "[[9 4]\n",
      " [7 5]]\n"
     ]
    }
   ],
   "source": [
    "import numpy as np\n",
    "\n",
    "a = np.random.randint(10, size=(2,2,2))\n",
    "print(a)\n",
    "print('=====')\n",
    "print(a.take(0, axis=0))\n",
    "print('=====')\n",
    "print(a.sum(axis=0))"
   ]
  },
  {
   "cell_type": "code",
   "execution_count": 63,
   "metadata": {},
   "outputs": [
    {
     "name": "stdout",
     "output_type": "stream",
     "text": [
      "[1 2 3 4 5 6 7 8 9]\n",
      "[ 2  2  4  4  6  6  8  8 10]\n",
      "[ 2  2  4  4  6  6  8  8 10]\n"
     ]
    }
   ],
   "source": [
    "a = np.arange(1, 10)\n",
    "b = a\n",
    "print(a)\n",
    "a[::2] += 1\n",
    "print(a)\n",
    "print(b)\n"
   ]
  },
  {
   "cell_type": "code",
   "execution_count": 89,
   "metadata": {},
   "outputs": [
    {
     "name": "stdout",
     "output_type": "stream",
     "text": [
      "6\n",
      "0\n"
     ]
    }
   ],
   "source": [
    "a = list(np.arange(1, 10))\n",
    "print(a[5])\n",
    "a[2:4] = list(np.zeros(5, dtype=int))\n",
    "print(a[5])"
   ]
  },
  {
   "cell_type": "code",
   "execution_count": 94,
   "metadata": {},
   "outputs": [
    {
     "data": {
      "text/plain": [
       "False"
      ]
     },
     "execution_count": 94,
     "metadata": {},
     "output_type": "execute_result"
    }
   ],
   "source": [
    "a = ['ana', 'gigi']\n",
    "b = sorted(a, key=lambda x: x[1])\n",
    "id(a) == id(b)"
   ]
  },
  {
   "attachments": {},
   "cell_type": "markdown",
   "metadata": {},
   "source": [
    "## dictionare"
   ]
  },
  {
   "cell_type": "code",
   "execution_count": 123,
   "metadata": {},
   "outputs": [],
   "source": [
    "import random\n",
    "a = {}\n",
    "for i in range(0, 10000):\n",
    "    a[np.random.rand(1)[0]] = (f\"giig-{random.randint(0, 40)}\", \"costi\")\n",
    "\n",
    "# print(a)"
   ]
  },
  {
   "cell_type": "code",
   "execution_count": 124,
   "metadata": {},
   "outputs": [],
   "source": [
    "b = {f'{v[0]}-{v[1]}':k for k,v in a.items()}\n",
    "# print(b)"
   ]
  },
  {
   "cell_type": "code",
   "execution_count": 125,
   "metadata": {},
   "outputs": [
    {
     "data": {
      "text/plain": [
       "3.664674499999819"
      ]
     },
     "execution_count": 125,
     "metadata": {},
     "output_type": "execute_result"
    }
   ],
   "source": [
    "import timeit\n",
    "from functools import partial\n",
    "\n",
    "def find_in_a(a, str):\n",
    "    for k, v in a.items():\n",
    "        if str in v:\n",
    "            return True\n",
    "    return False\n",
    "\n",
    "bounded = partial(find_in_a, a, 'giig-8-costi')\n",
    "\n",
    "timeit.timeit(bounded, globals=globals(), number=10000)"
   ]
  }
 ],
 "metadata": {
  "kernelspec": {
   "display_name": "Python 3",
   "language": "python",
   "name": "python3"
  },
  "language_info": {
   "codemirror_mode": {
    "name": "ipython",
    "version": 3
   },
   "file_extension": ".py",
   "mimetype": "text/x-python",
   "name": "python",
   "nbconvert_exporter": "python",
   "pygments_lexer": "ipython3",
   "version": "3.9.0"
  },
  "orig_nbformat": 4,
  "vscode": {
   "interpreter": {
    "hash": "2448079d9ee368583da5256bddc7311b74310ec52b4322850f1d652668253f0f"
   }
  }
 },
 "nbformat": 4,
 "nbformat_minor": 2
}
