{
 "cells": [
  {
   "cell_type": "code",
   "execution_count": 8,
   "metadata": {},
   "outputs": [
    {
     "data": {
      "text/plain": [
       "array([[[4.86765677, 5.45253812],\n",
       "        [4.99726218, 3.73124173]],\n",
       "\n",
       "       [[4.96283709, 4.54421781],\n",
       "        [4.80213838, 5.07128979]]])"
      ]
     },
     "execution_count": 8,
     "metadata": {},
     "output_type": "execute_result"
    }
   ],
   "source": [
    "# tabouri numpy\n",
    "import numpy as np\n",
    "\n",
    "a = np.random.normal(loc=5, scale=0.5, size=(2,2,2))\n",
    "a"
   ]
  },
  {
   "cell_type": "code",
   "execution_count": 9,
   "metadata": {},
   "outputs": [
    {
     "data": {
      "text/plain": [
       "array([[0.        , 5.45253812],\n",
       "       [4.99726218, 3.73124173]])"
      ]
     },
     "execution_count": 9,
     "metadata": {},
     "output_type": "execute_result"
    }
   ],
   "source": [
    "b = a[0, :, :]\n",
    "b\n",
    "b[0, 0] = 0\n",
    "b"
   ]
  },
  {
   "cell_type": "code",
   "execution_count": 10,
   "metadata": {},
   "outputs": [
    {
     "data": {
      "text/plain": [
       "array([[[0.        , 5.45253812],\n",
       "        [4.99726218, 3.73124173]],\n",
       "\n",
       "       [[4.96283709, 4.54421781],\n",
       "        [4.80213838, 5.07128979]]])"
      ]
     },
     "execution_count": 10,
     "metadata": {},
     "output_type": "execute_result"
    }
   ],
   "source": [
    "a"
   ]
  },
  {
   "cell_type": "code",
   "execution_count": 11,
   "metadata": {},
   "outputs": [
    {
     "name": "stdout",
     "output_type": "stream",
     "text": [
      "[[0.95 0.17 0.55 0.09 0.37 0.44]\n",
      " [0.66 0.43 0.61 0.12 0.08 0.24]\n",
      " [0.14 0.87 0.11 0.61 0.35 0.  ]\n",
      " [0.89 0.12 0.12 0.61 0.9  0.01]\n",
      " [0.45 0.21 0.81 0.63 0.08 0.58]\n",
      " [0.36 0.76 0.12 0.99 0.44 0.11]]\n",
      "=====\n",
      "=====\n",
      "[[0.95 0.17]\n",
      " [0.66 0.43]]\n",
      "=====\n",
      "=====\n",
      "[[0.43 0.61]\n",
      " [0.87 0.11]]\n",
      "=====\n",
      "=====\n",
      "[[0.11 0.61]\n",
      " [0.12 0.61]]\n",
      "=====\n",
      "=====\n",
      "[[0.61 0.9 ]\n",
      " [0.63 0.08]]\n",
      "=====\n",
      "=====\n"
     ]
    }
   ],
   "source": [
    "tab = np.random.random((6, 6))\n",
    "tab = np.round(tab, 2)\n",
    "print(tab)\n",
    "print('=====')\n",
    "print('=====')\n",
    "\n",
    "for i in range(0, 4):\n",
    "    print(tab[i:i+2, i:i+2])\n",
    "    print('=====')\n",
    "    print('=====')"
   ]
  },
  {
   "cell_type": "code",
   "execution_count": 12,
   "metadata": {},
   "outputs": [
    {
     "name": "stdout",
     "output_type": "stream",
     "text": [
      "[[0.95 0.17 0.55 0.09 0.37 0.44]\n",
      " [0.66 0.43 0.61 0.12 0.08 0.24]\n",
      " [0.   0.   0.   0.   0.   0.  ]\n",
      " [0.   0.   0.   0.   0.   0.  ]\n",
      " [0.45 0.21 0.81 0.63 0.08 0.58]\n",
      " [0.36 0.76 0.12 0.99 0.44 0.11]]\n"
     ]
    }
   ],
   "source": [
    "slice1 = tab[0:2, :]\n",
    "slice2 = tab[2:4, :]\n",
    "slice3 = tab[4:, :]\n",
    "\n",
    "slice2[:] = 0\n",
    "\n",
    "print(tab)"
   ]
  },
  {
   "cell_type": "code",
   "execution_count": 13,
   "metadata": {},
   "outputs": [
    {
     "name": "stdout",
     "output_type": "stream",
     "text": [
      "[[0 2 2]\n",
      " [1 1 1]\n",
      " [0 1 1]]\n",
      "===\n",
      "[[2 2 1 0 0 0]\n",
      " [0 2 2 0 1 1]\n",
      " [1 1 1 2 1 1]\n",
      " [1 0 1 2 1 2]\n",
      " [0 0 0 1 2 2]\n",
      " [0 1 2 1 1 2]]\n",
      "===\n"
     ]
    }
   ],
   "source": [
    "a = np.random.randint(0, 3, (3,3))\n",
    "b = np.random.randint(0, 3, (6,6))\n",
    "\n",
    "print(a)\n",
    "print('===')\n",
    "print(b)\n",
    "print('===')\n",
    "# print(a+b)"
   ]
  },
  {
   "cell_type": "code",
   "execution_count": 14,
   "metadata": {},
   "outputs": [
    {
     "name": "stdout",
     "output_type": "stream",
     "text": [
      "0.33666590000001406\n",
      "(1574, 24818)\n",
      "0.023513400000013007\n",
      "(1105, 25175)\n",
      "2.5346091000000115\n",
      "(1093, 25493)\n"
     ]
    }
   ],
   "source": [
    "# functii universale ufunc\n",
    "import timeit\n",
    "import tracemalloc\n",
    "\n",
    "size = (10, 10)\n",
    "values = np.random.random(size)\n",
    "output = np.random.random(size)\n",
    "times = 10000\n",
    "def m1():\n",
    "    for i in range(len(values)):\n",
    "        output[i] = 1.0 / values[i]\n",
    "\n",
    "tracemalloc.start()\n",
    "print(timeit.timeit(m1, globals=globals(), number=10000))\n",
    "print(tracemalloc.get_traced_memory())\n",
    "tracemalloc.clear_traces()\n",
    "print(timeit.timeit(lambda:1.0/values, globals=globals(), number=10000))\n",
    "print(tracemalloc.get_traced_memory())\n",
    "tracemalloc.clear_traces()\n",
    "print(timeit.timeit(lambda:[1.0/x for x in np.nditer(values)], globals=globals(), number=10000))\n",
    "print(tracemalloc.get_traced_memory())\n",
    "tracemalloc.clear_traces()\n",
    "\n"
   ]
  },
  {
   "cell_type": "code",
   "execution_count": 15,
   "metadata": {},
   "outputs": [
    {
     "name": "stdout",
     "output_type": "stream",
     "text": [
      "[[[5.40830636 4.83859116]\n",
      "  [4.86402389 4.86813898]]\n",
      "\n",
      " [[5.73600859 5.3965478 ]\n",
      "  [4.65379221 5.38079042]]]\n",
      "===== axis 0\n",
      "[[5.40830636 4.83859116]\n",
      " [4.86402389 4.86813898]]\n",
      "[[5.73600859 5.3965478 ]\n",
      " [4.65379221 5.38079042]]\n",
      "===== min\n",
      "[[5.40830636 4.83859116]\n",
      " [4.65379221 4.86813898]]\n",
      "===== axis 1\n",
      "[[5.40830636 4.83859116]\n",
      " [5.73600859 5.3965478 ]]\n",
      "[[4.86402389 4.86813898]\n",
      " [4.65379221 5.38079042]]\n",
      "===== min\n",
      "[[4.86402389 4.83859116]\n",
      " [4.65379221 5.38079042]]\n"
     ]
    }
   ],
   "source": [
    "a = np.random.normal(loc=5, scale=0.5, size=(2,2,2))\n",
    "print(a)\n",
    "print('===== axis 0')\n",
    "print(a[0])\n",
    "print(a[1])\n",
    "print('===== min')\n",
    "print(np.min(a, axis=0))\n",
    "print('===== axis 1')\n",
    "print(a[:, 0])\n",
    "print(a[:, 1])\n",
    "print('===== min')\n",
    "print(np.min(a, axis=1))"
   ]
  },
  {
   "cell_type": "code",
   "execution_count": 16,
   "metadata": {},
   "outputs": [
    {
     "data": {
      "text/plain": [
       "array([[0.16385111, 0.27897832],\n",
       "       [0.10511584, 0.25632572]])"
      ]
     },
     "execution_count": 16,
     "metadata": {},
     "output_type": "execute_result"
    }
   ],
   "source": [
    "a.mean(axis=0)\n",
    "a.std(axis=0)"
   ]
  },
  {
   "cell_type": "code",
   "execution_count": 47,
   "metadata": {},
   "outputs": [
    {
     "name": "stdout",
     "output_type": "stream",
     "text": [
      "True\n",
      "[10  7  8  6  6  7  8  6  8 10  9  6 10 10  9  8  8  6  9  9  9  7  6  6\n",
      "  6  6 10 10  7  6  6  7  6  6 10  9  7  9  7  7 10  6  9  7  7  7 10  8\n",
      "  6 10 10  6 10  7  7  6 10  8  6  9  8  6  8  8  8  7  9  9 10 10  9  9\n",
      "  6  9  8  9  9  6  6  9  7  7 10 10 10 10  7  9  7  9  7 10  6 10  8 10\n",
      "  7  9 10  6  8  8 10 10  9  7  7  6  7  9  7  7  7  7  8 10  8 10  9  7\n",
      "  8  8  6  6  7 10  7  9  8 10  7 10  8  7  7  7  6  7  7 10  7  7  9  9\n",
      "  9  7  8  7  8  8  8  6 10  8  6  7  8  7  8  6 10  6 10  8  6  9  9  9\n",
      "  8  8  6  8  6  9  6  7  6  9 10  7 10  6 10  6  8  6  8  9  7 10  8 10\n",
      "  9  8 10 10  9 10  7  8  9  8  9  8  6  9  9  7  8  9  6  6  9 10 10  6\n",
      "  6 10 10 10  8  6  7  9 10 10  6  9  7 10  6 10  7  8 10  7  7  6  9  8\n",
      " 10  7  7  6  9  9  8 10  8 10  9  7  8  6  6  6  6  7  7  9  8  7  7  7\n",
      "  8  9  7  8  9  6  9 10  7  9  7  6  9 10  8  8  8  8  6  7  7  7  9  7\n",
      " 10  7  9  6  9  7 10 10 10  7 10  6  8  8 10 10  9  9  8 10  7  8  7  7\n",
      "  8 10  9  7  9 10  8 10  9  8 10  7  7  8  7 10  8  8  9 10  8  8  8 10\n",
      "  7  8  8  9  6  7  8  6 10  9  7  8  8  9  9  7 10 10  7  9  9  6  7  8\n",
      "  6  9  9 10  6 10  8  8  8  9  6  7  8  7 10 10 10 10  9  7  6  9  7  9\n",
      "  9  9  8 10  9 10  6  6  6  8  9 10 10  7  9 10 10 10  6  9  7  8  6 10\n",
      "  7  8  7  8  9  9  7  9  6  8  9 10  9  8  7 10  7  7  7  9 10  6 10  6\n",
      "  9  6 10 10  9  6 10  6  8  8  6  6  6  8  7  8  6  6  7 10  8  8  6  9\n",
      "  9  7  6  9 10  8 10 10  6 10  9  7  6 10  8  8  7  7 10  9  9  8  7  9\n",
      "  8  8  7  7  9  9 10  6  6 10  7 10  8  8  7  7  6  7  6  7 10  7 10  8\n",
      "  6  6  6  9  9  9  9  8]\n"
     ]
    },
    {
     "data": {
      "text/plain": [
       "False"
      ]
     },
     "execution_count": 47,
     "metadata": {},
     "output_type": "execute_result"
    }
   ],
   "source": [
    "# comparare, selectare\n",
    "a = np.random.randint(0, 100, size=(100, 100))\n",
    "\n",
    "print(np.any(a[a>1]))\n",
    "print(a[(10 >= a) & (a > 5)])\n",
    "i = np.random.randint(0, 90)\n",
    "j = np.random.randint(0, 90)\n",
    "b = a[i:i+10, j:j+10] \n",
    "\n",
    "i = np.random.randint(0, 90)\n",
    "j = np.random.randint(0, 90)\n",
    "c = a[i:i+10, j:j+10] \n",
    "\n",
    "np.all(b == c)"
   ]
  },
  {
   "cell_type": "code",
   "execution_count": 61,
   "metadata": {},
   "outputs": [
    {
     "name": "stdout",
     "output_type": "stream",
     "text": [
      "[[74 96 96 99 54 80 18  5 71 90]\n",
      " [54 62 92 55 31 26 52 56 63 90]\n",
      " [71 60  4 70 94 53 54 68  9 36]\n",
      " [ 0 47 37 82  7  2 65 70 97 33]\n",
      " [19 90 19 56 66 10 33 75 43 95]\n",
      " [15 20  2 87 57 93 55  8 10 69]\n",
      " [44 38 58 17 31 29 71 24 22 95]\n",
      " [62 37 11 96 59 85 62  0 17 46]\n",
      " [62 54 87 76 64 24 63 21 90 61]\n",
      " [43 96 50 15 36 14 47 48 83 32]]\n",
      "[[ 0 20  2 15  7  2 18  0  9 32]\n",
      " [15 37  4 17 31 10 33  5 10 33]\n",
      " [19 38 11 55 31 14 47  8 17 36]\n",
      " [43 47 19 56 36 24 52 21 22 46]\n",
      " [44 54 37 70 54 26 54 24 43 61]\n",
      " [54 60 50 76 57 29 55 48 63 69]\n",
      " [62 62 58 82 59 53 62 56 71 90]\n",
      " [62 90 87 87 64 80 63 68 83 90]\n",
      " [71 96 92 96 66 85 65 70 90 95]\n",
      " [74 96 96 99 94 93 71 75 97 95]]\n",
      "[96 92  4 37 19  2 58 11 87 50]\n"
     ]
    }
   ],
   "source": [
    "a = np.random.randint(0, 100, size=(10, 10))\n",
    "print(a)\n",
    "print(np.sort(a, axis=0))\n",
    "print(a.take(2, axis=1))"
   ]
  },
  {
   "cell_type": "code",
   "execution_count": 1,
   "metadata": {},
   "outputs": [
    {
     "name": "stdout",
     "output_type": "stream",
     "text": [
      "[[3 1 4]\n",
      " [2 6 5]\n",
      " [3 5 8]\n",
      " [1 5 9]]\n"
     ]
    }
   ],
   "source": [
    "import numpy as np\n",
    "\n",
    "# create a 2D array\n",
    "arr = np.array([[3, 1, 4],\n",
    "                [1, 5, 9],\n",
    "                [2, 6, 5],\n",
    "                [3, 5, 8]])\n",
    "\n",
    "# get the indices that would sort the third column\n",
    "indices = np.argsort(arr[:, 2])\n",
    "\n",
    "# reorder the rows based on the sorted indices\n",
    "sorted_arr = arr[indices]\n",
    "\n",
    "print(sorted_arr)"
   ]
  }
 ],
 "metadata": {
  "kernelspec": {
   "display_name": "Python 3",
   "language": "python",
   "name": "python3"
  },
  "language_info": {
   "codemirror_mode": {
    "name": "ipython",
    "version": 3
   },
   "file_extension": ".py",
   "mimetype": "text/x-python",
   "name": "python",
   "nbconvert_exporter": "python",
   "pygments_lexer": "ipython3",
   "version": "3.9.0"
  },
  "orig_nbformat": 4,
  "vscode": {
   "interpreter": {
    "hash": "2448079d9ee368583da5256bddc7311b74310ec52b4322850f1d652668253f0f"
   }
  }
 },
 "nbformat": 4,
 "nbformat_minor": 2
}
