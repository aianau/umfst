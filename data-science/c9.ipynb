{
 "cells": [
  {
   "cell_type": "code",
   "execution_count": null,
   "id": "exclusive-whole",
   "metadata": {},
   "outputs": [],
   "source": [
    "import dask\n",
    "import dask.array as da\n",
    "import dask.dataframe as dd\n",
    "import dask.delayed as delayed\n",
    "import dask.bag as bag\n",
    "\n",
    "import time, sys\n",
    "import timeit\n",
    "if sys.version_info[0] >= 3 and sys.version_info[1] >= 3:\n",
    "    timer = time.perf_counter\n",
    "else:\n",
    "    timer = time.clock if sys.platform[:3] == 'win' else time.time\n",
    "    \n",
    "scheduler_types = {\n",
    "    'PROCESSES': 'processes',\n",
    "    'SINGLE-THREADED': 'single-threaded',\n",
    "    'THREADS': 'threads'\n",
    "}"
   ]
  },
  {
   "cell_type": "code",
   "execution_count": null,
   "id": "nonprofit-title",
   "metadata": {},
   "outputs": [],
   "source": [
    "x = da.random.random((10000, 10000))\n",
    "z = x[::2, 5000:].mean(axis=1)\n",
    "z"
   ]
  },
  {
   "cell_type": "code",
   "execution_count": null,
   "id": "infectious-remedy",
   "metadata": {},
   "outputs": [],
   "source": [
    "z.visualize()"
   ]
  },
  {
   "cell_type": "code",
   "execution_count": null,
   "id": "standing-hardware",
   "metadata": {
    "scrolled": false
   },
   "outputs": [],
   "source": [
    "for key, value in scheduler_types.items():\n",
    "    print(f'{key} run:')\n",
    "    %time z.compute(scheduler=value)\n",
    "    print('----------------------------')"
   ]
  },
  {
   "cell_type": "code",
   "execution_count": null,
   "id": "042eb449",
   "metadata": {},
   "outputs": [],
   "source": [
    "import numpy as np\n",
    "xp = np.random.rand(10000, 10000)\n",
    "%time zp = xp[::2, 5000:].mean(axis=1)"
   ]
  },
  {
   "cell_type": "code",
   "execution_count": null,
   "id": "enhanced-climb",
   "metadata": {},
   "outputs": [],
   "source": [
    "x = da.random.random((10000, 10000), chunks=(1000, 1000))\n",
    "z = x[::2, 5000:].mean(axis=1)\n",
    "x"
   ]
  },
  {
   "cell_type": "code",
   "execution_count": null,
   "id": "radio-phone",
   "metadata": {},
   "outputs": [],
   "source": [
    "for key, value in scheduler_types.items():\n",
    "    print(f'{key} run:')\n",
    "    %time z.compute(scheduler=value)\n",
    "    print('----------------------------')"
   ]
  },
  {
   "cell_type": "code",
   "execution_count": null,
   "id": "certain-parks",
   "metadata": {},
   "outputs": [],
   "source": [
    "from dask.distributed import Client\n",
    "client = Client()       #distribuire\n",
    "client"
   ]
  },
  {
   "cell_type": "code",
   "execution_count": null,
   "id": "smaller-poetry",
   "metadata": {},
   "outputs": [],
   "source": [
    "import dask.array as da\n",
    "import numpy as np\n",
    "\n",
    "# in cazul tabloului numpy genereaza eroare de memorie\n",
    "#xp = np.random.rand(100000, 100000)\n",
    "\n",
    "#x = da.random.random((100000, 100000), chunks=(1000, 1000))\n",
    "x = da.random.random((100000, 100000))\n",
    "z = x[::2, 5000:].mean(axis=1)\n",
    "%time z.compute()"
   ]
  },
  {
   "cell_type": "code",
   "execution_count": null,
   "id": "secondary-range",
   "metadata": {},
   "outputs": [],
   "source": [
    "from dask import delayed\n",
    "from dask.diagnostics import ProgressBar\n",
    "\n",
    "@delayed\n",
    "def inc(x):\n",
    "    return x + 1\n",
    "\n",
    "@delayed\n",
    "def add(x, y):\n",
    "    return x + y\n",
    "x = inc(15)\n",
    "y = inc(30)\n",
    "total = add(x, y)\n",
    "total.visualize()\n"
   ]
  },
  {
   "cell_type": "code",
   "execution_count": null,
   "id": "final-warrior",
   "metadata": {},
   "outputs": [],
   "source": [
    "from dask import delayed\n",
    "data = [1,2,3]\n",
    "d = 0\n",
    "@delayed\n",
    "def f1(x):\n",
    "    return x + 1\n",
    "@delayed\n",
    "def f2(x):\n",
    "    return 2*x\n",
    "for x in data:\n",
    "    a = f1(x)\n",
    "    b = f2(x)\n",
    "    d = d+a+b\n",
    "d.visualize(rankdir='LR')\n",
    "\n"
   ]
  },
  {
   "cell_type": "code",
   "execution_count": null,
   "id": "9f8ab606",
   "metadata": {},
   "outputs": [],
   "source": [
    "import dask.bag as bag\n",
    "from operator import add\n",
    "data = bag.from_sequence([1, 2, 3])\n",
    "def f1(x):\n",
    "    return x + 1\n",
    "def f2(x):\n",
    "    return 2*x\n",
    "a = data.map(f1)\n",
    "b = data.map(f2)\n",
    "d = bag.concat([a,b])\n",
    "d = d.sum()\n",
    "d.visualize(rankdir='LR')"
   ]
  },
  {
   "cell_type": "code",
   "execution_count": null,
   "id": "df8d393c",
   "metadata": {},
   "outputs": [],
   "source": [
    "import dask.bag as bag\n",
    "from operator import add\n",
    "data = bag.from_sequence([1, 2, 3])\n",
    "def f1(x):\n",
    "    return x + 1\n",
    "def f2(x):\n",
    "    return 2*x\n",
    "a = data.map(f1)\n",
    "b = data.map(f2)\n",
    "d = a.accumulate(add)\n",
    "d.visualize(rankdir='LR')"
   ]
  },
  {
   "cell_type": "code",
   "execution_count": null,
   "id": "3700d633",
   "metadata": {},
   "outputs": [],
   "source": [
    "import dask.array as da\n",
    "from dask.distributed import as_completed\n",
    "\n",
    "x = da.random.random((1000, 1000))\n",
    "futures = [client.submit(sum,x) for i in range(5)]\n",
    "for future in as_completed(futures):  \n",
    "    %time future.result() \n",
    "    print(future.result())\n"
   ]
  },
  {
   "cell_type": "code",
   "execution_count": null,
   "id": "f34cbd80",
   "metadata": {},
   "outputs": [],
   "source": [
    "import dask.array as da\n",
    "from dask.distributed import as_completed\n",
    "\n",
    "x = da.random.random((100,100))\n",
    "futures = [client.submit(min,x[i,:]) for i in range(5)]\n",
    "seq = as_completed(futures)\n",
    "i = 6\n",
    "for future in seq:  \n",
    "    %time future.result() \n",
    "    print(future.result().mean().compute())\n",
    "    if (future.result().mean() > 0.01 and i < 10):\n",
    "        futures_new = [client.submit(min,x[i,:])]\n",
    "        i = i+1\n",
    "        seq.update(futures_new)"
   ]
  },
  {
   "cell_type": "code",
   "execution_count": null,
   "id": "twelve-temple",
   "metadata": {},
   "outputs": [],
   "source": [
    "import dask.dataframe as dd\n",
    "births = dd.read_csv('births.csv', assume_missing=True)\n",
    "births['decade'] = 10 * (births['year'] // 10)\n",
    "#births\n",
    "births.drop(['year', 'month','day'], axis=1)\n",
    "bornd = births.groupby('decade').births.sum()\n",
    "bornd\n",
    "bornd.visualize(rankdir='LR',filename='birthsd.png')\n",
    "%time bornd.compute()\n"
   ]
  },
  {
   "cell_type": "code",
   "execution_count": null,
   "id": "transparent-growth",
   "metadata": {},
   "outputs": [],
   "source": [
    "client.shutdown()"
   ]
  }
 ],
 "metadata": {
  "kernelspec": {
   "display_name": "Python 3 (ipykernel)",
   "language": "python",
   "name": "python3"
  },
  "language_info": {
   "codemirror_mode": {
    "name": "ipython",
    "version": 3
   },
   "file_extension": ".py",
   "mimetype": "text/x-python",
   "name": "python",
   "nbconvert_exporter": "python",
   "pygments_lexer": "ipython3",
   "version": "3.11.2"
  }
 },
 "nbformat": 4,
 "nbformat_minor": 5
}
