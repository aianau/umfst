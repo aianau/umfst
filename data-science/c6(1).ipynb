{
 "cells": [
  {
   "cell_type": "code",
   "execution_count": null,
   "metadata": {
    "colab": {
     "base_uri": "https://localhost:8080/",
     "height": 269
    },
    "id": "HPLNEMPUWYS7",
    "outputId": "387be5aa-1c7c-4248-8304-9cfc5e51a3cf"
   },
   "outputs": [],
   "source": [
    "import numpy as np\n",
    "import pandas as pd\n",
    "import random\n",
    "import matplotlib.pyplot as plt\n",
    "import seaborn as sns\n",
    "from mpl_toolkits import mplot3d\n",
    "\n",
    "x = np.linspace(0, 5, 50)\n",
    "y = np.linspace(0, 5, 50)\n",
    "def f(x, y):\n",
    "  return np.sin(x) ** 2 + np.cos(10 + y) * np.cos(y)\n",
    "X, Y = np.meshgrid(x, y)\n",
    "Z = f(X, Y)\n",
    "fig, axes = plt.subplots(1, 2, figsize = (9,4), constrained_layout=True)\n",
    "axes[0].contour(X, Y, Z, colors='black');\n",
    "o2 = axes[1].contourf(X, Y, Z, 20, cmap='RdGy')\n",
    "plt.colorbar(o2);\n"
   ]
  },
  {
   "cell_type": "markdown",
   "metadata": {},
   "source": [
    "tipuri de interpolare pentru imshow:\n",
    "'none', 'antialiased', 'nearest', 'bilinear', 'bicubic', 'spline16', 'spline36', 'hanning', 'hamming', 'hermite', 'kaiser', 'quadric', 'catrom', 'gaussian', 'bessel', 'mitchell', 'sinc', 'lanczos', 'blackman'"
   ]
  },
  {
   "cell_type": "code",
   "execution_count": null,
   "metadata": {
    "colab": {
     "base_uri": "https://localhost:8080/",
     "height": 800
    },
    "id": "avXcbe8vgrBT",
    "outputId": "aeaedb30-a3da-411e-aa27-0f97f9315f40"
   },
   "outputs": [],
   "source": [
    "\n",
    "mean = [0, 0]\n",
    "cov = cov = [[1, -1], [-1, 2]]\n",
    "x, y = np.random.multivariate_normal(mean, cov, 1000).T\n",
    "f, ax = plt.subplots(1,3, figsize=(9, 3))\n",
    "h, xe, ye, p = ax[0].hist2d(x, y, bins=50, cmap='Blues')\n",
    "ax[1].imshow(h, cmap='Blues', origin = \"lower\", interpolation = \"gaussian\")\n",
    "sns.kdeplot(x=x,y=y, fill=True,ax = ax[2])\n",
    "sns.jointplot(x=x,y=y, kind='kde',fill=True , height = 3);"
   ]
  },
  {
   "cell_type": "code",
   "execution_count": null,
   "metadata": {
    "scrolled": true
   },
   "outputs": [],
   "source": [
    "fig = plt.figure(figsize = (8,4))\n",
    "\n",
    "ax = fig.add_subplot(1, 2, 1, projection='3d')\n",
    "zline = np.linspace(0, 15, 1000)\n",
    "xline = np.sin(zline)\n",
    "yline = np.cos(zline)\n",
    "ax.plot3D(xline, yline, zline, 'gray')\n",
    "\n",
    "ax = fig.add_subplot(1, 2, 2, projection='3d')\n",
    "zdata = np.linspace(0, 15, 500)\n",
    "xdata = np.sin(zdata) + 0.2 * np.random.randn(500)\n",
    "ydata = np.cos(zdata) + 0.2 * np.random.randn(500)\n",
    "ax.scatter3D(xdata, ydata, zdata, c=zdata, cmap='Greens');"
   ]
  },
  {
   "cell_type": "code",
   "execution_count": null,
   "metadata": {},
   "outputs": [],
   "source": [
    "x = np.linspace(0, 5, 50)\n",
    "y = np.linspace(0, 5, 50)\n",
    "def f(x, y):\n",
    "  return np.sin(x) ** 2 + np.cos(10 + y) * np.cos(y)\n",
    "X, Y = np.meshgrid(x, y)\n",
    "Z = f(X, Y)\n",
    "fig = plt.figure()\n",
    "ax = plt.axes(projection='3d')\n",
    "ax.contour3D(X, Y, Z, 50, cmap='Reds')\n",
    "ax.view_init(45, 45)\n"
   ]
  },
  {
   "cell_type": "code",
   "execution_count": null,
   "metadata": {
    "colab": {
     "base_uri": "https://localhost:8080/",
     "height": 1000
    },
    "id": "5mO9kDkyF3pY",
    "outputId": "b71a962a-ae80-4809-d964-afc3c0691884"
   },
   "outputs": [],
   "source": [
    "\n",
    "inv = pd.read_csv(\"https://raw.githubusercontent.com/wesm/pydata-book/2nd-edition/examples/macrodata.csv\")\n",
    "inv.rename(columns={'pop': 'population'}, inplace=True)\n",
    "print(inv.head())\n",
    "x = inv.year+inv.quarter/10.\n",
    "y = inv.population\n",
    "z = inv.realgdp/inv.realgdp.max()\n",
    "v = inv.unemp/inv.unemp.max()\n",
    "\n",
    "data = inv[['realgdp', 'infl', 'population', 'unemp']]\n",
    "#trans_data = np.log(data).diff().dropna()\n",
    "sns.pairplot(data, diag_kind='kde', plot_kws={'alpha': 0.2})\n"
   ]
  },
  {
   "cell_type": "code",
   "execution_count": null,
   "metadata": {},
   "outputs": [],
   "source": [
    "plt.figure()\n",
    "ax = plt.axes(projection='3d')\n",
    "ax.scatter3D(x, y, v)\n",
    "ax.scatter3D(x, y, z, 'red')\n",
    "ax.set_xlabel('an')\n",
    "ax.set_ylabel('populatie')\n",
    "ax.legend(['somaj', 'gdp'])"
   ]
  },
  {
   "cell_type": "code",
   "execution_count": null,
   "metadata": {
    "colab": {
     "base_uri": "https://localhost:8080/",
     "height": 1000
    },
    "id": "qkXQP-tllUi7",
    "outputId": "d49bb01a-703c-45ff-9bc9-4ed740790157"
   },
   "outputs": [],
   "source": [
    "inv = pd.read_csv(\"https://raw.githubusercontent.com/wesm/pydata-book/2nd-edition/examples/macrodata.csv\")\n",
    "inv.rename(columns={'pop': 'population'}, inplace=True)\n",
    "\n",
    "invy = inv.groupby('year').mean() \n",
    "si = pd.Series(invy.infl)\n",
    "su = pd.Series(invy.unemp)\n",
    "plt.plot(si)\n",
    "plt.plot(su, 'r')\n",
    "plt.figure()\n",
    "#g = sns.PairGrid(tips,hue='day')\n",
    "#g.map(plt.scatter, alpha=0.8)\n",
    "#g.add_legend();\n",
    "#plt.figure()\n",
    "sns.jointplot(x=si, y=su,kind = 'reg', height = 3 )\n",
    "plt.figure()\n",
    "sns.jointplot(x=si, y=su.shift(-2),kind = 'reg', height = 3 )"
   ]
  },
  {
   "cell_type": "code",
   "execution_count": null,
   "metadata": {
    "colab": {
     "base_uri": "https://localhost:8080/",
     "height": 1000
    },
    "id": "qRPorXIzarCB",
    "outputId": "13d8b89b-4e2a-4e2b-db2c-293561ccb398"
   },
   "outputs": [],
   "source": [
    "tips = pd.read_csv(\"https://raw.githubusercontent.com/wesm/pydata-book/2nd-edition/examples/tips.csv\")\n",
    "print(tips.head())\n",
    "sns.jointplot(x=\"total_bill\", y=\"tip\", data=tips, kind='reg', height = 3)\n",
    "\n",
    "#g = sns.PairGrid(tips,hue='day')\n",
    "#g.map(plt.scatter, alpha=0.8)\n",
    "#g.add_legend();\n",
    "#plt.figure()\n",
    "sns.pairplot(tips,hue='day')"
   ]
  },
  {
   "cell_type": "code",
   "execution_count": null,
   "metadata": {},
   "outputs": [],
   "source": [
    "from sklearn.impute import SimpleImputer\n",
    "from sklearn.preprocessing import PolynomialFeatures\n",
    "from sklearn.linear_model import LinearRegression\n",
    "from sklearn.pipeline import make_pipeline\n",
    "\n",
    "N = 50\n",
    "rng = np.random.RandomState(1)\n",
    "X = rng.rand(N, 1) ** 2\n",
    "y = 10 - 1. / (X + 0.1)\n",
    "X_test = np.linspace(-0.1, 1.1, 500)[:, None]\n",
    "plt.scatter(X, y, color='black')\n",
    "axis = plt.axis()\n",
    "for degree in [1, 3, 5]:\n",
    "  model = make_pipeline( SimpleImputer(), PolynomialFeatures(degree), LinearRegression())\n",
    "  y_test = model.fit(X, y).predict(X_test)\n",
    "  plt.plot(X_test, y_test, label='degree={0}'.format(degree))\n",
    "  print(model.steps[2][1].coef_)"
   ]
  },
  {
   "cell_type": "code",
   "execution_count": null,
   "metadata": {
    "colab": {
     "base_uri": "https://localhost:8080/",
     "height": 467
    },
    "id": "qaDxAwUSPPZn",
    "outputId": "1ce66a37-fd56-4ae5-cd64-7347141a9ac3"
   },
   "outputs": [],
   "source": [
    "\n",
    "from sklearn.impute import SimpleImputer\n",
    "from sklearn.preprocessing import PolynomialFeatures\n",
    "from sklearn.linear_model import LinearRegression\n",
    "from sklearn.pipeline import make_pipeline\n",
    "\n",
    "tips = pd.read_csv(\"https://raw.githubusercontent.com/wesm/pydata-book/2nd-edition/examples/tips.csv\")\n",
    "#print(tips.head())\n",
    "X = tips['total_bill'].to_numpy()[:, None]\n",
    "y = tips['tip']\n",
    "plt.scatter(X, y, color='black')\n",
    "model = LinearRegression()\n",
    "model.fit(X, y)\n",
    "z = model.predict(X)\n",
    "plt.plot(X,z, 'r')\n",
    "print(model.coef_)"
   ]
  },
  {
   "cell_type": "code",
   "execution_count": null,
   "metadata": {},
   "outputs": [],
   "source": [
    "X1 = tips[['total_bill', 'size']]\n",
    "y1 = tips['tip']\n",
    "model = LinearRegression()\n",
    "model.fit(X1, y1)\n",
    "z1 = model.predict(X1)\n",
    "print(model.coef_)\n",
    "plt.figure()\n",
    "ax = plt.axes(projection='3d')\n",
    "ax.scatter3D(X1['total_bill'],X1['size'], y1)\n",
    "ax.scatter3D(X1['total_bill'],X1['size'], z1, 'red')"
   ]
  }
 ],
 "metadata": {
  "celltoolbar": "Edit Metadata",
  "colab": {
   "collapsed_sections": [],
   "name": "afisare3d.ipynb",
   "provenance": []
  },
  "kernelspec": {
   "display_name": "Python 3 (ipykernel)",
   "language": "python",
   "name": "python3"
  },
  "language_info": {
   "codemirror_mode": {
    "name": "ipython",
    "version": 3
   },
   "file_extension": ".py",
   "mimetype": "text/x-python",
   "name": "python",
   "nbconvert_exporter": "python",
   "pygments_lexer": "ipython3",
   "version": "3.11.2"
  }
 },
 "nbformat": 4,
 "nbformat_minor": 1
}
