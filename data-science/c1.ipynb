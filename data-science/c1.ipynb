{
 "cells": [
  {
   "cell_type": "code",
   "execution_count": 1,
   "id": "major-prince",
   "metadata": {},
   "outputs": [
    {
     "data": {
      "text/plain": [
       "(140726905417024, 140726905417024, 140726905417024)"
      ]
     },
     "execution_count": 1,
     "metadata": {},
     "output_type": "execute_result"
    }
   ],
   "source": [
    "x = 50\n",
    "y = 50\n",
    "z = x\n",
    "id(x) ,id(y), id(z)"
   ]
  },
  {
   "cell_type": "code",
   "execution_count": 2,
   "id": "smart-strength",
   "metadata": {},
   "outputs": [
    {
     "data": {
      "text/plain": [
       "(1855145541712, float)"
      ]
     },
     "execution_count": 2,
     "metadata": {},
     "output_type": "execute_result"
    }
   ],
   "source": [
    "x = 50 + 0.1\n",
    "id(x), type(x)"
   ]
  },
  {
   "cell_type": "code",
   "execution_count": 3,
   "id": "offensive-leone",
   "metadata": {},
   "outputs": [
    {
     "ename": "TypeError",
     "evalue": "can only concatenate str (not \"int\") to str",
     "output_type": "error",
     "traceback": [
      "\u001b[1;31m---------------------------------------------------------------------------\u001b[0m",
      "\u001b[1;31mTypeError\u001b[0m                                 Traceback (most recent call last)",
      "\u001b[1;32m<ipython-input-3-01ecf7ad3a7d>\u001b[0m in \u001b[0;36m<module>\u001b[1;34m\u001b[0m\n\u001b[1;32m----> 1\u001b[1;33m \u001b[1;34m'5'\u001b[0m\u001b[1;33m+\u001b[0m \u001b[1;36m5\u001b[0m\u001b[1;33m\u001b[0m\u001b[1;33m\u001b[0m\u001b[0m\n\u001b[0m",
      "\u001b[1;31mTypeError\u001b[0m: can only concatenate str (not \"int\") to str"
     ]
    }
   ],
   "source": [
    "'5'+ 5"
   ]
  },
  {
   "cell_type": "code",
   "execution_count": 4,
   "id": "compressed-secondary",
   "metadata": {},
   "outputs": [
    {
     "data": {
      "text/plain": [
       "(1855146334720, 140726905417024, 140726905417024)"
      ]
     },
     "execution_count": 4,
     "metadata": {},
     "output_type": "execute_result"
    }
   ],
   "source": [
    "a = [50, 50]\n",
    "id(a), id(a[0]), id(a[1])"
   ]
  },
  {
   "cell_type": "code",
   "execution_count": 5,
   "id": "interesting-uncle",
   "metadata": {},
   "outputs": [
    {
     "name": "stdout",
     "output_type": "stream",
     "text": [
      "[0, 1, 2, 3, 4]\n",
      "[0, 10, 11, 2, 3, 4]\n",
      "[0, 20, 21, 23, 10, 11, 2, 3, 4]\n",
      "[0, 11, 2, 3, 4]\n"
     ]
    }
   ],
   "source": [
    "L = list(range(5))\n",
    "print(L)\n",
    "L[1:2] = [10, 11]\n",
    "print(L)\n",
    "L[1:1] = [20, 21, 23]\n",
    "print(L)\n",
    "L[1:5]  = []\n",
    "print(L)"
   ]
  },
  {
   "cell_type": "code",
   "execution_count": null,
   "id": "vulnerable-stranger",
   "metadata": {},
   "outputs": [],
   "source": [
    "seq1 = ['1', '2', '3']\n",
    "seq2 = ['one', 'two', 'three']\n",
    "for (a, b) in enumerate(zip(seq1, seq2)):\n",
    "    print(a, b)"
   ]
  },
  {
   "cell_type": "code",
   "execution_count": 6,
   "id": "harmful-analyst",
   "metadata": {},
   "outputs": [
    {
     "name": "stdout",
     "output_type": "stream",
     "text": [
      "S t upid\n",
      "St upid\n",
      "St upid upid\n",
      "S ['t', 'u', 'p', 'i'] d\n"
     ]
    }
   ],
   "source": [
    "string = 'Stupid'\n",
    "(a, b), c = string[:2], string[2:]\n",
    "print(a,b,c)\n",
    "(a, b) = string[:2], string[2:]\n",
    "print(a,b)\n",
    "(a, b, c) = string[:2], string[2:], string[2:]\n",
    "print(a,b,c)\n",
    "a, *b, c = string\n",
    "print(a,b,c)"
   ]
  },
  {
   "cell_type": "code",
   "execution_count": 13,
   "id": "bulgarian-vehicle",
   "metadata": {},
   "outputs": [
    {
     "data": {
      "text/plain": [
       "0.2642301000000771"
      ]
     },
     "execution_count": 13,
     "metadata": {},
     "output_type": "execute_result"
    }
   ],
   "source": [
    "import timeit\n",
    "timeit.timeit('[].append(abs(x) for x in list(range(100000)))', number=100)"
   ]
  },
  {
   "cell_type": "code",
   "execution_count": 14,
   "id": "contained-tragedy",
   "metadata": {},
   "outputs": [
    {
     "name": "stdout",
     "output_type": "stream",
     "text": [
      "3.8.5 (default, Sep  3 2020, 21:29:08) [MSC v.1916 64 bit (AMD64)]\n",
      "forLoop  : 1.02582 \n",
      "listComp : 0.63037 \n",
      "mapCall  : 0.17222 \n",
      "genExpr  : 0.67095 \n",
      "genFunc  : 0.73385 \n"
     ]
    }
   ],
   "source": [
    "import sys, timer # Import timer functions\n",
    "reps = 100000\n",
    "repslist = list(range(reps)) \n",
    "\n",
    "def forLoop():\n",
    "    res = []\n",
    "    for x in repslist:\n",
    "        res.append(abs(x))\n",
    "    return res\n",
    "\n",
    "def listComp():\n",
    "    return [abs(x) for x in repslist]\n",
    "\n",
    "def mapCall():\n",
    "    return list(map(abs, repslist)) # Use list() here in 3.X only!\n",
    "    # return map(abs, repslist)\n",
    "\n",
    "def genExpr():\n",
    "    return list(abs(x) for x in repslist) # list() required to force results\n",
    "\n",
    "def genFunc():\n",
    "    def gen():\n",
    "        for x in repslist:\n",
    "            yield abs(x)\n",
    "    return list(gen()) # list() required to force results\n",
    "\n",
    "print(sys.version)\n",
    "for test in (forLoop, listComp, mapCall, genExpr, genFunc):\n",
    "    (bestof, (total, result)) = timer.bestoftotal(5, 100, test)\n",
    "    print ('%-9s: %.5f ' %\n",
    "    (test.__name__, bestof))"
   ]
  }
 ],
 "metadata": {
  "kernelspec": {
   "display_name": "Python 3",
   "language": "python",
   "name": "python3"
  },
  "language_info": {
   "codemirror_mode": {
    "name": "ipython",
    "version": 3
   },
   "file_extension": ".py",
   "mimetype": "text/x-python",
   "name": "python",
   "nbconvert_exporter": "python",
   "pygments_lexer": "ipython3",
   "version": "3.8.5"
  }
 },
 "nbformat": 4,
 "nbformat_minor": 5
}
