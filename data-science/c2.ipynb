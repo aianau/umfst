{
 "cells": [
  {
   "cell_type": "code",
   "execution_count": null,
   "id": "growing-continent",
   "metadata": {},
   "outputs": [],
   "source": [
    "import numpy as np\n",
    "x = np.array([range(i, i + 3) for i in [2, 4, 6]]) \n",
    "print(x)\n",
    "print(x.ndim, x.shape, x.dtype)"
   ]
  },
  {
   "cell_type": "code",
   "execution_count": 16,
   "id": "boxed-format",
   "metadata": {},
   "outputs": [
    {
     "name": "stdout",
     "output_type": "stream",
     "text": [
      "[ 0  1  2 20  4  5  7  7  8  9]\n",
      "[[ 0  1]\n",
      " [ 2 20]\n",
      " [ 4  5]\n",
      " [ 7  7]\n",
      " [ 8  9]]\n",
      "[  0 100   4   7   8]\n",
      "2291170593168 2291170594368\n"
     ]
    },
    {
     "data": {
      "text/plain": [
       "False"
      ]
     },
     "execution_count": 16,
     "metadata": {},
     "output_type": "execute_result"
    }
   ],
   "source": [
    "x1 = np.array(range(10))\n",
    "xr = x1.reshape((5, 2))\n",
    "xr[1,1] = 20\n",
    "xr[3,:] = [7, 7]  \n",
    "xc = x1[::2].copy()\n",
    "xc[1] = 100\n",
    "print(x1)\n",
    "print(xr)\n",
    "print(xc)\n",
    "print(id(x1), id(xr))\n",
    "x1 is xr"
   ]
  },
  {
   "cell_type": "code",
   "execution_count": 70,
   "id": "wicked-polyester",
   "metadata": {},
   "outputs": [
    {
     "name": "stdout",
     "output_type": "stream",
     "text": [
      "1.1190480000000207\n",
      "1.077491000000009\n",
      "1.1197665999998208\n",
      "1.2122437999996691\n"
     ]
    }
   ],
   "source": [
    "import timeit\n",
    "nr = 1000000\n",
    "values = np.random.randint(1, 10, size=nr)\n",
    "y = np.zeros(2*nr)\n",
    "print(timeit.timeit(\"np.power(2, values)\", globals=globals(), number = 100))\n",
    "print(timeit.timeit(\"2**values\", globals=globals(), number = 100))\n",
    "print(timeit.timeit(\"np.power(3, values, out = y[::2])\", globals=globals(), number = 100))\n",
    "print(timeit.timeit(\"y[::2] = 3**values\", globals=globals(), number = 100))"
   ]
  },
  {
   "cell_type": "code",
   "execution_count": 67,
   "id": "numeric-ready",
   "metadata": {},
   "outputs": [
    {
     "name": "stdout",
     "output_type": "stream",
     "text": [
      "size: 469, peak: 33955\n",
      "size: 469, peak: 4000667\n"
     ]
    }
   ],
   "source": [
    "import numpy as np\n",
    "import tracemalloc\n",
    "np.random.seed(0)\n",
    "nr = 1000000\n",
    "values = np.random.randint(1, 10, size=nr)\n",
    "y = np.zeros(2*nr)\n",
    "tracemalloc.start()\n",
    "np.power(2, values, out = y[::2])\n",
    "first_size, first_peak = tracemalloc.get_traced_memory()\n",
    "tracemalloc.clear_traces()\n",
    "y[::2] = 2**values\n",
    "second_size, second_peak = tracemalloc.get_traced_memory()\n",
    "print(f\"size: {first_size}, peak: {first_peak}\")\n",
    "print(f\"size: {second_size}, peak: {second_peak}\")\n",
    "tracemalloc.stop()\n"
   ]
  },
  {
   "cell_type": "code",
   "execution_count": 77,
   "id": "million-superintendent",
   "metadata": {},
   "outputs": [
    {
     "name": "stdout",
     "output_type": "stream",
     "text": [
      "1.5982098999998016\n",
      "0.004693999999744847\n",
      "0.004966800000147487\n"
     ]
    }
   ],
   "source": [
    "values = np.random.randint(1, 100, size=100000)\n",
    "print(timeit.timeit(\"sum(values)\", globals=globals(), number = 100))\n",
    "print(timeit.timeit(\"np.add.reduce(values)\", globals=globals(), number = 100))\n",
    "print(timeit.timeit(\"np.sum(values)\", globals=globals(), number = 100))"
   ]
  },
  {
   "cell_type": "code",
   "execution_count": 78,
   "id": "helpful-special",
   "metadata": {},
   "outputs": [
    {
     "name": "stdout",
     "output_type": "stream",
     "text": [
      "[1 1 2 2 2 1]\n"
     ]
    },
    {
     "data": {
      "text/plain": [
       "array([False, False,  True,  True,  True, False])"
      ]
     },
     "execution_count": 78,
     "metadata": {},
     "output_type": "execute_result"
    }
   ],
   "source": [
    "\n",
    "x = np.array([1, 1, 1, 1, 1, 1])\n",
    "i = [2, 3, 3, 4, 4, 4]\n",
    "x[i] += 1\n",
    "print(x)\n"
   ]
  }
 ],
 "metadata": {
  "kernelspec": {
   "display_name": "Python 3",
   "language": "python",
   "name": "python3"
  },
  "language_info": {
   "codemirror_mode": {
    "name": "ipython",
    "version": 3
   },
   "file_extension": ".py",
   "mimetype": "text/x-python",
   "name": "python",
   "nbconvert_exporter": "python",
   "pygments_lexer": "ipython3",
   "version": "3.10.7"
  },
  "vscode": {
   "interpreter": {
    "hash": "ffaf0af176b3cbeaa4a1d8dbd36358a124431fb973d1c17ed2f684f21d188323"
   }
  }
 },
 "nbformat": 4,
 "nbformat_minor": 5
}
