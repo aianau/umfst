{
 "cells": [
  {
   "cell_type": "code",
   "execution_count": 2,
   "id": "growing-continent",
   "metadata": {},
   "outputs": [
    {
     "name": "stdout",
     "output_type": "stream",
     "text": [
      "Anda        7\n",
      "Ion         8\n",
      "Matei       9\n",
      "Florina    10\n",
      "Ana         5\n",
      "Vlad       10\n",
      "dtype: int64\n"
     ]
    }
   ],
   "source": [
    "import numpy as np\n",
    "import pandas as pd\n",
    "import array\n",
    "catalog_dict = {'Anda':7,'Ion':8,'Matei':9,'Florina':10,'Ana':5,'Vlad':10}\n",
    "catalog = pd.Series(catalog_dict)\n",
    "# print(catalog[0:3])  \n",
    "\n",
    "catalog.sort_index()\n",
    "print(catalog)\n",
    "\n"
   ]
  },
  {
   "cell_type": "code",
   "execution_count": 7,
   "id": "vocal-lodging",
   "metadata": {},
   "outputs": [
    {
     "name": "stdout",
     "output_type": "stream",
     "text": [
      "3\n",
      "['c' 'a' 'f']\n",
      "3    c\n",
      "2    a\n",
      "dtype: object\n"
     ]
    }
   ],
   "source": [
    "\n",
    "data = pd.Series({2:'a', 1:'b', 3:'c', 5:'d', 4:'e', 6:'f'}, index=[3, 2, 6])\n",
    "print(data.size)\n",
    "print(data.values)\n",
    "print(data[0:2])\n"
   ]
  },
  {
   "cell_type": "code",
   "execution_count": 47,
   "id": "complicated-advice",
   "metadata": {},
   "outputs": [
    {
     "data": {
      "text/html": [
       "<div>\n",
       "<style scoped>\n",
       "    .dataframe tbody tr th:only-of-type {\n",
       "        vertical-align: middle;\n",
       "    }\n",
       "\n",
       "    .dataframe tbody tr th {\n",
       "        vertical-align: top;\n",
       "    }\n",
       "\n",
       "    .dataframe thead th {\n",
       "        text-align: right;\n",
       "    }\n",
       "</style>\n",
       "<table border=\"1\" class=\"dataframe\">\n",
       "  <thead>\n",
       "    <tr style=\"text-align: right;\">\n",
       "      <th></th>\n",
       "      <th>partial</th>\n",
       "      <th>examen</th>\n",
       "    </tr>\n",
       "  </thead>\n",
       "  <tbody>\n",
       "    <tr>\n",
       "      <th>Ana</th>\n",
       "      <td>True</td>\n",
       "      <td>False</td>\n",
       "    </tr>\n",
       "    <tr>\n",
       "      <th>Anda</th>\n",
       "      <td>False</td>\n",
       "      <td>False</td>\n",
       "    </tr>\n",
       "    <tr>\n",
       "      <th>Florina</th>\n",
       "      <td>False</td>\n",
       "      <td>False</td>\n",
       "    </tr>\n",
       "    <tr>\n",
       "      <th>Ion</th>\n",
       "      <td>True</td>\n",
       "      <td>False</td>\n",
       "    </tr>\n",
       "    <tr>\n",
       "      <th>Matei</th>\n",
       "      <td>False</td>\n",
       "      <td>False</td>\n",
       "    </tr>\n",
       "    <tr>\n",
       "      <th>Vlad</th>\n",
       "      <td>False</td>\n",
       "      <td>False</td>\n",
       "    </tr>\n",
       "  </tbody>\n",
       "</table>\n",
       "</div>"
      ],
      "text/plain": [
       "         partial  examen\n",
       "Ana         True   False\n",
       "Anda       False   False\n",
       "Florina    False   False\n",
       "Ion         True   False\n",
       "Matei      False   False\n",
       "Vlad       False   False"
      ]
     },
     "execution_count": 47,
     "metadata": {},
     "output_type": "execute_result"
    }
   ],
   "source": [
    "examen_dict = {'Anda':7,'Ion':8,'Matei':9,'Florina':10,'Ana':5,'Vlad':10}\n",
    "examen = pd.Series(examen_dict)\n",
    "partial_dict = {'Anda':5,'Matei':10,'Florina':9,'Vlad':10}\n",
    "partial = pd.Series(partial_dict)\n",
    "catalog = pd.DataFrame({'partial':partial, 'examen':examen})\n",
    "catalog\n",
    "# print(catalog[0:6]) \n",
    "# print(catalog['partial'])\n",
    "# print(catalog['Anda':'Anda'])\n",
    "# print(catalog.partial)\n",
    "\n",
    "# catalog[catalog > 8]\n",
    "# catalog.isna()\n",
    "# catalog.isna()\n",
    "# catalog[]\n",
    "# print(catalog[catalog.isna()])"
   ]
  },
  {
   "cell_type": "code",
   "execution_count": 14,
   "id": "international-exploration",
   "metadata": {},
   "outputs": [
    {
     "name": "stdout",
     "output_type": "stream",
     "text": [
      "   a  b\n",
      "0  0  1\n",
      "1  1  2\n",
      "2  2  4\n",
      "RangeIndex(start=0, stop=3, step=1)\n"
     ]
    }
   ],
   "source": [
    "data = pd.DataFrame([{'a': i, 'b': 2 ** i} for i in range(3)])\n",
    "print(data)\n",
    "print(data.index)"
   ]
  },
  {
   "cell_type": "code",
   "execution_count": 32,
   "id": "distant-iraqi",
   "metadata": {},
   "outputs": [
    {
     "name": "stdout",
     "output_type": "stream",
     "text": [
      "3\n",
      "1\n"
     ]
    }
   ],
   "source": [
    "indA = pd.Index([1, 3, 5, 7, 9])\n",
    "indB = pd.Index([2, 3, 5, 7, 11])\n",
    "indC = indA.intersection(indB)\n",
    "print(indC[0]) \n",
    "indD = indA.union(indB)\n",
    "print(indD[0]) "
   ]
  },
  {
   "cell_type": "code",
   "execution_count": 41,
   "id": "conservative-cancellation",
   "metadata": {},
   "outputs": [
    {
     "name": "stdout",
     "output_type": "stream",
     "text": [
      "1.0\n",
      "2    0.50\n",
      "3    0.75\n",
      "dtype: float64\n",
      "\n",
      "2    0.50\n",
      "3    0.75\n",
      "dtype: float64\n",
      "\n",
      "2    0.50\n",
      "3    0.75\n",
      "dtype: float64\n"
     ]
    }
   ],
   "source": [
    "data = pd.Series([0.25, 0.5, 0.75, 1.0], index=[7, 2, 3, 1])\n",
    "print(data[1])     \n",
    "print(data[1:3])\n",
    "\n",
    "print()\n",
    "print(data.loc[2:3])\n",
    "print()\n",
    "print(data.iloc[1:3])\n",
    "\n",
    "# d = {'val':[0.25, 0.5, 0.75, 1.0]}\n",
    "# datat = pd.DataFrame(d,index=[7, 2, 3, 1])\n",
    "# print(datat[0:3])"
   ]
  },
  {
   "cell_type": "code",
   "execution_count": 49,
   "id": "instrumental-banner",
   "metadata": {},
   "outputs": [
    {
     "name": "stdout",
     "output_type": "stream",
     "text": [
      "    X  Y\n",
      "0  17  3\n",
      "1  14  9\n",
      "   Z  Y  X\n",
      "0  0  7  4\n",
      "1  0  2  0\n",
      "2  7  6  6\n",
      "      X     Y   Z\n",
      "0  21.0  10.0 NaN\n",
      "1  14.0  11.0 NaN\n",
      "2   NaN   NaN NaN\n",
      "      X     Y    Z\n",
      "0  21.0  10.0  0.0\n",
      "1  14.0  11.0  0.0\n",
      "2   6.0   6.0  7.0\n",
      "   Z  Y  X\n",
      "0  0  0  0\n",
      "1  0 -5 -4\n",
      "2  7 -1  2\n"
     ]
    }
   ],
   "source": [
    "A = pd.DataFrame(np.random.randint(0, 20, (2, 2)), columns=list('XY'))\n",
    "B = pd.DataFrame(np.random.randint(0, 10, (3, 3)), columns=list('ZYX'))\n",
    "print(A); print(B); print(A+B)\n",
    "print(A.add(B, fill_value=0))\n",
    "print(B.subtract(B['X'], axis =0)) # axis=0 == column\n",
    "print(B.subtract(B.iloc[0], axis =1)) # axis=1 == row\n"
   ]
  },
  {
   "cell_type": "code",
   "execution_count": 55,
   "id": "focal-single",
   "metadata": {
    "scrolled": true
   },
   "outputs": [
    {
     "name": "stdout",
     "output_type": "stream",
     "text": [
      "    A   B\n",
      "0  A1  B1\n",
      "1  A2  B2\n",
      "    A   B\n",
      "0  A3  B3\n",
      "1  A4  B4\n",
      "    A   B\n",
      "0  A1  B1\n",
      "1  A2  B2\n",
      "0  A3  B3\n",
      "1  A4  B4\n",
      "    A   B   A   B\n",
      "0  A1  B1  A3  B3\n",
      "1  A2  B2  A4  B4\n",
      "        A   B\n",
      "df1 0  A1  B1\n",
      "    1  A2  B2\n",
      "df2 0  A3  B3\n",
      "    1  A4  B4\n"
     ]
    },
    {
     "ename": "KeyError",
     "evalue": "'df1'",
     "output_type": "error",
     "traceback": [
      "\u001b[1;31m---------------------------------------------------------------------------\u001b[0m",
      "\u001b[1;31mKeyError\u001b[0m                                  Traceback (most recent call last)",
      "File \u001b[1;32mc:\\Users\\aianau\\AppData\\Local\\Programs\\Python\\Python39\\lib\\site-packages\\pandas\\core\\indexes\\base.py:3802\u001b[0m, in \u001b[0;36mIndex.get_loc\u001b[1;34m(self, key, method, tolerance)\u001b[0m\n\u001b[0;32m   3801\u001b[0m \u001b[39mtry\u001b[39;00m:\n\u001b[1;32m-> 3802\u001b[0m     \u001b[39mreturn\u001b[39;00m \u001b[39mself\u001b[39;49m\u001b[39m.\u001b[39;49m_engine\u001b[39m.\u001b[39;49mget_loc(casted_key)\n\u001b[0;32m   3803\u001b[0m \u001b[39mexcept\u001b[39;00m \u001b[39mKeyError\u001b[39;00m \u001b[39mas\u001b[39;00m err:\n",
      "File \u001b[1;32mc:\\Users\\aianau\\AppData\\Local\\Programs\\Python\\Python39\\lib\\site-packages\\pandas\\_libs\\index.pyx:138\u001b[0m, in \u001b[0;36mpandas._libs.index.IndexEngine.get_loc\u001b[1;34m()\u001b[0m\n",
      "File \u001b[1;32mc:\\Users\\aianau\\AppData\\Local\\Programs\\Python\\Python39\\lib\\site-packages\\pandas\\_libs\\index.pyx:165\u001b[0m, in \u001b[0;36mpandas._libs.index.IndexEngine.get_loc\u001b[1;34m()\u001b[0m\n",
      "File \u001b[1;32mpandas\\_libs\\hashtable_class_helper.pxi:5745\u001b[0m, in \u001b[0;36mpandas._libs.hashtable.PyObjectHashTable.get_item\u001b[1;34m()\u001b[0m\n",
      "File \u001b[1;32mpandas\\_libs\\hashtable_class_helper.pxi:5753\u001b[0m, in \u001b[0;36mpandas._libs.hashtable.PyObjectHashTable.get_item\u001b[1;34m()\u001b[0m\n",
      "\u001b[1;31mKeyError\u001b[0m: 'df1'",
      "\nThe above exception was the direct cause of the following exception:\n",
      "\u001b[1;31mKeyError\u001b[0m                                  Traceback (most recent call last)",
      "Cell \u001b[1;32mIn [55], line 9\u001b[0m\n\u001b[0;32m      7\u001b[0m c \u001b[39m=\u001b[39m pd\u001b[39m.\u001b[39mconcat([df1,df2], keys \u001b[39m=\u001b[39m [\u001b[39m'\u001b[39m\u001b[39mdf1\u001b[39m\u001b[39m'\u001b[39m, \u001b[39m'\u001b[39m\u001b[39mdf2\u001b[39m\u001b[39m'\u001b[39m])\n\u001b[0;32m      8\u001b[0m \u001b[39mprint\u001b[39m(c)\n\u001b[1;32m----> 9\u001b[0m \u001b[39mprint\u001b[39m(c[\u001b[39m'\u001b[39;49m\u001b[39mdf1\u001b[39;49m\u001b[39m'\u001b[39;49m][ \u001b[39m'\u001b[39m\u001b[39mA\u001b[39m\u001b[39m'\u001b[39m:\u001b[39m'\u001b[39m\u001b[39mB\u001b[39m\u001b[39m'\u001b[39m])\n",
      "File \u001b[1;32mc:\\Users\\aianau\\AppData\\Local\\Programs\\Python\\Python39\\lib\\site-packages\\pandas\\core\\frame.py:3807\u001b[0m, in \u001b[0;36mDataFrame.__getitem__\u001b[1;34m(self, key)\u001b[0m\n\u001b[0;32m   3805\u001b[0m \u001b[39mif\u001b[39;00m \u001b[39mself\u001b[39m\u001b[39m.\u001b[39mcolumns\u001b[39m.\u001b[39mnlevels \u001b[39m>\u001b[39m \u001b[39m1\u001b[39m:\n\u001b[0;32m   3806\u001b[0m     \u001b[39mreturn\u001b[39;00m \u001b[39mself\u001b[39m\u001b[39m.\u001b[39m_getitem_multilevel(key)\n\u001b[1;32m-> 3807\u001b[0m indexer \u001b[39m=\u001b[39m \u001b[39mself\u001b[39;49m\u001b[39m.\u001b[39;49mcolumns\u001b[39m.\u001b[39;49mget_loc(key)\n\u001b[0;32m   3808\u001b[0m \u001b[39mif\u001b[39;00m is_integer(indexer):\n\u001b[0;32m   3809\u001b[0m     indexer \u001b[39m=\u001b[39m [indexer]\n",
      "File \u001b[1;32mc:\\Users\\aianau\\AppData\\Local\\Programs\\Python\\Python39\\lib\\site-packages\\pandas\\core\\indexes\\base.py:3804\u001b[0m, in \u001b[0;36mIndex.get_loc\u001b[1;34m(self, key, method, tolerance)\u001b[0m\n\u001b[0;32m   3802\u001b[0m     \u001b[39mreturn\u001b[39;00m \u001b[39mself\u001b[39m\u001b[39m.\u001b[39m_engine\u001b[39m.\u001b[39mget_loc(casted_key)\n\u001b[0;32m   3803\u001b[0m \u001b[39mexcept\u001b[39;00m \u001b[39mKeyError\u001b[39;00m \u001b[39mas\u001b[39;00m err:\n\u001b[1;32m-> 3804\u001b[0m     \u001b[39mraise\u001b[39;00m \u001b[39mKeyError\u001b[39;00m(key) \u001b[39mfrom\u001b[39;00m \u001b[39merr\u001b[39;00m\n\u001b[0;32m   3805\u001b[0m \u001b[39mexcept\u001b[39;00m \u001b[39mTypeError\u001b[39;00m:\n\u001b[0;32m   3806\u001b[0m     \u001b[39m# If we have a listlike key, _check_indexing_error will raise\u001b[39;00m\n\u001b[0;32m   3807\u001b[0m     \u001b[39m#  InvalidIndexError. Otherwise we fall through and re-raise\u001b[39;00m\n\u001b[0;32m   3808\u001b[0m     \u001b[39m#  the TypeError.\u001b[39;00m\n\u001b[0;32m   3809\u001b[0m     \u001b[39mself\u001b[39m\u001b[39m.\u001b[39m_check_indexing_error(key)\n",
      "\u001b[1;31mKeyError\u001b[0m: 'df1'"
     ]
    }
   ],
   "source": [
    "df1 = pd.DataFrame([{'A': f'A{i}', 'B': f'B{i}'} for i in range(1,3)])\n",
    "df2 = pd.DataFrame([{'A': f'A{i}', 'B': f'B{i}'} for i in range(3,5)])\n",
    "print (df1);print(df2)\n",
    "print(pd.concat([df1,df2], axis = 'rows'))\n",
    "b = pd.concat([df1,df2], axis = 'columns')\n",
    "print(b)\n",
    "c = pd.concat([df1,df2], keys = ['df1', 'df2'])\n",
    "print(c)\n",
    "print(c['df1']['A':'B']) # TODO: cum selectezi?"
   ]
  },
  {
   "cell_type": "code",
   "execution_count": 56,
   "id": "spanish-cooper",
   "metadata": {},
   "outputs": [
    {
     "name": "stdout",
     "output_type": "stream",
     "text": [
      "    A   B   C\n",
      "0  A1  B1  C1\n",
      "1  A2  B2  C2\n",
      "    B   C   D\n",
      "0  B3  C3  D3\n",
      "1  B4  C4  D4\n",
      "    B   C\n",
      "0  B1  C1\n",
      "1  B2  C2\n",
      "0  B3  C3\n",
      "1  B4  C4\n",
      "     A   B   C    D\n",
      "0   A1  B1  C1  NaN\n",
      "1   A2  B2  C2  NaN\n",
      "0  NaN  B3  C3   D3\n",
      "1  NaN  B4  C4   D4\n",
      "     A   B   C    D\n",
      "0   A1  B1  C1  NaN\n",
      "1   A2  B2  C2  NaN\n",
      "2  NaN  B3  C3   D3\n",
      "3  NaN  B4  C4   D4\n",
      "    A   B   C   B   C   D\n",
      "0  A1  B1  C1  B3  C3  D3\n",
      "1  A2  B2  C2  B4  C4  D4\n"
     ]
    }
   ],
   "source": [
    "df3 = pd.DataFrame([{'A': f'A{i}', 'B': f'B{i}', 'C': f'C{i}'} for i in range(1,3)])\n",
    "df4 = pd.DataFrame([{'B': f'B{i}', 'C': f'C{i}', 'D': f'D{i}'} for i in range(3,5)])\n",
    "print (df3);print(df4);\n",
    "print(pd.concat([df3,df4], join = 'inner'))\n",
    "print(pd.concat([df3,df4]))\n",
    "print(pd.concat([df3,df4], ignore_index=True))\n",
    "print(pd.concat([df3,df4], axis = 'columns'))"
   ]
  },
  {
   "cell_type": "code",
   "execution_count": 50,
   "id": "southern-gathering",
   "metadata": {},
   "outputs": [
    {
     "name": "stdout",
     "output_type": "stream",
     "text": [
      "char  int\n",
      "a     2      0.691420\n",
      "      1      0.714306\n",
      "c     2      0.315518\n",
      "      1      0.079319\n",
      "b     2      0.027642\n",
      "      1      0.219430\n",
      "dtype: float64\n",
      "char  int\n",
      "a     1      0.714306\n",
      "      2      0.691420\n",
      "b     1      0.219430\n",
      "      2      0.027642\n",
      "c     1      0.079319\n",
      "      2      0.315518\n",
      "dtype: float64\n"
     ]
    }
   ],
   "source": [
    "index = pd.MultiIndex.from_product([['a', 'c', 'b'], [2, 1]])\n",
    "data = pd.Series(np.random.rand(6), index=index)\n",
    "data.index.names = ['char', 'int']\n",
    "data1 = data.sort_index()\n",
    "print(data)\n",
    "print(data1)\n"
   ]
  },
  {
   "cell_type": "code",
   "execution_count": 88,
   "id": "existing-consortium",
   "metadata": {},
   "outputs": [
    {
     "name": "stdout",
     "output_type": "stream",
     "text": [
      "California  2000    33871648\n",
      "            2010    37253956\n",
      "New York    2000    18976457\n",
      "            2010    19378102\n",
      "Texas       2000    20851820\n",
      "            2010    25145561\n",
      "dtype: int64\n",
      "MultiIndex([('California', 2000),\n",
      "            ('California', 2010),\n",
      "            (  'New York', 2000),\n",
      "            (  'New York', 2010),\n",
      "            (     'Texas', 2000),\n",
      "            (     'Texas', 2010)],\n",
      "           )\n"
     ]
    }
   ],
   "source": [
    "index = [('California', 2000), ('California', 2010), ('New York', 2000), ('New York', 2010), ('Texas', 2000), ('Texas', 2010)]\n",
    "populations = [33871648, 37253956, 18976457, 19378102, 20851820, 25145561]\n",
    "index = pd.MultiIndex.from_tuples(index)\n",
    "pop  = pd.Series(populations, index)\n",
    "print(pop)\n",
    "print(index)"
   ]
  },
  {
   "cell_type": "code",
   "execution_count": 94,
   "id": "838707cb",
   "metadata": {},
   "outputs": [
    {
     "name": "stdout",
     "output_type": "stream",
     "text": [
      "                    total  under18\n",
      "California 2000  33871648  9267089\n",
      "           2010  37253956  9284094\n",
      "New York   2000  18976457  4687374\n",
      "           2010  19378102  4318033\n",
      "Texas      2000  20851820  5906301\n",
      "           2010  25145561  6879014\n",
      "MultiIndex([('California', 2000),\n",
      "            ('California', 2010),\n",
      "            (  'New York', 2000),\n",
      "            (  'New York', 2010),\n",
      "            (     'Texas', 2000),\n",
      "            (     'Texas', 2010)],\n",
      "           )\n"
     ]
    },
    {
     "data": {
      "text/plain": [
       "MultiIndex([(2000, 'California'),\n",
       "            (2010, 'California'),\n",
       "            (2000,   'New York'),\n",
       "            (2010,   'New York'),\n",
       "            (2000,      'Texas'),\n",
       "            (2010,      'Texas')],\n",
       "           names=['year', 'city'])"
      ]
     },
     "execution_count": 94,
     "metadata": {},
     "output_type": "execute_result"
    }
   ],
   "source": [
    "pop_df = pd.DataFrame({'total': pop, 'under18': [9267089, 9284094, 4687374, 4318033, 5906301, 6879014]})\n",
    "# print(pop_df.index)\n",
    "print(pop_df)\n",
    "print(pop_df.index)\n",
    "# print(pop_df.unstack())\n",
    "popflat = pop_df.reset_index(names = ['city', 'year'])\n",
    "popflat = popflat.set_index(['year', 'city'])\n",
    "# popflat.groupby('city')\n",
    "popflat.index\n",
    "# print(popflat)\n",
    "# popf = popflat.set_index(['year'])\n",
    "# print(popf.index)\n",
    "# popflatttt = popflat.copy()\n",
    "# apopflatttt.set_index(['year', 'city']) # TODO: cum fac aici indexu sa fie year si apoi city?\n",
    "# print(popflatttt)\n",
    "# print(popflatttt)"
   ]
  }
 ],
 "metadata": {
  "kernelspec": {
   "display_name": "Python 3",
   "language": "python",
   "name": "python3"
  },
  "language_info": {
   "codemirror_mode": {
    "name": "ipython",
    "version": 3
   },
   "file_extension": ".py",
   "mimetype": "text/x-python",
   "name": "python",
   "nbconvert_exporter": "python",
   "pygments_lexer": "ipython3",
   "version": "3.9.0"
  },
  "vscode": {
   "interpreter": {
    "hash": "2448079d9ee368583da5256bddc7311b74310ec52b4322850f1d652668253f0f"
   }
  }
 },
 "nbformat": 4,
 "nbformat_minor": 5
}
